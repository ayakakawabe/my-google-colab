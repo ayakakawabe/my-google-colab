{
  "nbformat": 4,
  "nbformat_minor": 0,
  "metadata": {
    "colab": {
      "provenance": [],
      "authorship_tag": "ABX9TyOmyWVdpUALkoCZE+ML3sgC",
      "include_colab_link": true
    },
    "kernelspec": {
      "name": "python3",
      "display_name": "Python 3"
    },
    "language_info": {
      "name": "python"
    }
  },
  "cells": [
    {
      "cell_type": "markdown",
      "metadata": {
        "id": "view-in-github",
        "colab_type": "text"
      },
      "source": [
        "<a href=\"https://colab.research.google.com/github/ayakakawabe/my-google-colab/blob/main/InputTimeout.ipynb\" target=\"_parent\"><img src=\"https://colab.research.google.com/assets/colab-badge.svg\" alt=\"Open In Colab\"/></a>"
      ]
    },
    {
      "cell_type": "code",
      "source": [
        "def input_timeout(timelimit,prompt):\n",
        "    input_command_str=f\"input('{prompt}')\"\n",
        "    input_result_list=!timeout {timelimit} python -c {'\"'+input_command_str+'\"'}\n",
        "    input_result=None\n",
        "    if input_result_list[0]!=prompt:\n",
        "        input_result=input_result_list[0].removeprefix(prompt)\n",
        "    return input_result"
      ],
      "metadata": {
        "id": "fb1wlGeYPIQf"
      },
      "execution_count": 3,
      "outputs": []
    },
    {
      "cell_type": "code",
      "source": [
        "# 使用例\n",
        "result=input_timeout(3,\"入力：\")\n",
        "if result==None:\n",
        "    print(\"時間切れ！\")\n",
        "else:\n",
        "    print(\"入力された文字は「\"+result+\"」です\")"
      ],
      "metadata": {
        "colab": {
          "base_uri": "https://localhost:8080/"
        },
        "id": "RngCVCmzz_HA",
        "outputId": "1e351fc2-c900-4528-eecc-0f4713bf93d2"
      },
      "execution_count": 6,
      "outputs": [
        {
          "output_type": "stream",
          "name": "stdout",
          "text": [
            "入力された文字は「a」です\n"
          ]
        }
      ]
    }
  ]
}