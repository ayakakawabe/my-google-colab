{
  "nbformat": 4,
  "nbformat_minor": 0,
  "metadata": {
    "colab": {
      "provenance": [],
      "authorship_tag": "ABX9TyOTUpo0mkW7UXlgTnljz+RL",
      "include_colab_link": true
    },
    "kernelspec": {
      "name": "python3",
      "display_name": "Python 3"
    },
    "language_info": {
      "name": "python"
    }
  },
  "cells": [
    {
      "cell_type": "markdown",
      "metadata": {
        "id": "view-in-github",
        "colab_type": "text"
      },
      "source": [
        "<a href=\"https://colab.research.google.com/github/ayakakawabe/my-google-colab/blob/main/InputTimeout.ipynb\" target=\"_parent\"><img src=\"https://colab.research.google.com/assets/colab-badge.svg\" alt=\"Open In Colab\"/></a>"
      ]
    },
    {
      "cell_type": "code",
      "source": [
        "def input_timeout(timelimit,prompt):\n",
        "    input_command_str=f\"input('{prompt}')\"\n",
        "    input_result_list=!timeout {timelimit} python -c {'\"'+input_command_str+'\"'}\n",
        "    input_result=None\n",
        "    if input_result_list[0]!=prompt:\n",
        "        input_result=input_result_list[0].removeprefix(prompt)\n",
        "    return input_result\n",
        "\n",
        "result=input_timeout(1,\"入力：\")\n",
        "print(result)"
      ],
      "metadata": {
        "colab": {
          "base_uri": "https://localhost:8080/"
        },
        "id": "fb1wlGeYPIQf",
        "outputId": "85027c79-e088-4e2e-c8dc-1b35c0731ae4"
      },
      "execution_count": 167,
      "outputs": [
        {
          "output_type": "stream",
          "name": "stdout",
          "text": [
            "None\n"
          ]
        }
      ]
    }
  ]
}