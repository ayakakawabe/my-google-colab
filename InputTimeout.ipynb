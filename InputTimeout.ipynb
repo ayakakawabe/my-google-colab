{
  "nbformat": 4,
  "nbformat_minor": 0,
  "metadata": {
    "colab": {
      "provenance": [],
      "authorship_tag": "ABX9TyPAuZ73hxqMSecDxkFE906x",
      "include_colab_link": true
    },
    "kernelspec": {
      "name": "python3",
      "display_name": "Python 3"
    },
    "language_info": {
      "name": "python"
    }
  },
  "cells": [
    {
      "cell_type": "markdown",
      "metadata": {
        "id": "view-in-github",
        "colab_type": "text"
      },
      "source": [
        "<a href=\"https://colab.research.google.com/github/ayakakawabe/my-google-colab/blob/main/InputTimeout.ipynb\" target=\"_parent\"><img src=\"https://colab.research.google.com/assets/colab-badge.svg\" alt=\"Open In Colab\"/></a>"
      ]
    },
    {
      "cell_type": "code",
      "source": [
        "def input_timeout(timelimit,prompt):\n",
        "    input_command_str=f\"input('{prompt}')\"\n",
        "    input_result_list=!timeout {timelimit} python -c {'\"'+input_command_str+'\"'}\n",
        "    input_result=None\n",
        "    if input_result_list[0]!=prompt:\n",
        "        input_result=input_result_list[0].removeprefix(prompt)\n",
        "    return input_result"
      ],
      "metadata": {
        "id": "fb1wlGeYPIQf"
      },
      "execution_count": 1,
      "outputs": []
    },
    {
      "cell_type": "code",
      "source": [
        "# 使用例\n",
        "result=input_timeout(3,\"入力：\")\n",
        "if result==None:\n",
        "    print(\"時間切れ！\")\n",
        "else:\n",
        "    print(\"入力された文字は「\"+result+\"」です\")"
      ],
      "metadata": {
        "colab": {
          "base_uri": "https://localhost:8080/"
        },
        "id": "RngCVCmzz_HA",
        "outputId": "9779795a-117a-4d02-b1be-7eeae33de886"
      },
      "execution_count": 6,
      "outputs": [
        {
          "output_type": "stream",
          "name": "stdout",
          "text": [
            "入力された文字は「aaaaa」です\n"
          ]
        }
      ]
    },
    {
      "cell_type": "code",
      "source": [
        "def input_timeout_using_shell(timelimit,prompt):\n",
        "    input_result_list=!echo -n {prompt} && timeout {timelimit} bash -c \"read\"\n",
        "    input_result=None\n",
        "    if input_result_list[0]!=prompt:\n",
        "        input_result=input_result_list[0].removeprefix(prompt)\n",
        "    return input_result"
      ],
      "metadata": {
        "id": "wmYdZ56J1ZEF"
      },
      "execution_count": 49,
      "outputs": []
    },
    {
      "cell_type": "code",
      "source": [
        "# 使用例\n",
        "result=input_timeout_using_shell(3,\"入力：\")\n",
        "if result==None:\n",
        "    print(\"時間切れ！\")\n",
        "else:\n",
        "    print(\"入力された文字は「\"+result+\"」です\")"
      ],
      "metadata": {
        "colab": {
          "base_uri": "https://localhost:8080/"
        },
        "id": "BvdydzEyPSCE",
        "outputId": "f9af1b18-6ad9-4d67-d89a-58a1c79a2b55"
      },
      "execution_count": 51,
      "outputs": [
        {
          "output_type": "stream",
          "name": "stdout",
          "text": [
            "入力された文字は「ああ」です\n"
          ]
        }
      ]
    }
  ]
}